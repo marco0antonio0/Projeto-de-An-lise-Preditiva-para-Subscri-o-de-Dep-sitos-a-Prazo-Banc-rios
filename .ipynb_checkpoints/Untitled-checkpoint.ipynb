{
 "cells": [
  {
   "cell_type": "code",
   "execution_count": 1,
   "id": "ce4c40df",
   "metadata": {},
   "outputs": [],
   "source": [
    "import pandas as pd\n",
    "import numpy as np"
   ]
  },
  {
   "cell_type": "code",
   "execution_count": 5,
   "id": "cb0caacd",
   "metadata": {},
   "outputs": [],
   "source": [
    "df = pd.read_csv('./IoTProcessed_Data.csv')"
   ]
  },
  {
   "cell_type": "code",
   "execution_count": 6,
   "id": "5f55da34",
   "metadata": {},
   "outputs": [],
   "source": [
    "col_temperatura = df['tempreature']"
   ]
  },
  {
   "cell_type": "code",
   "execution_count": 7,
   "id": "22b47908",
   "metadata": {},
   "outputs": [
    {
     "name": "stdout",
     "output_type": "stream",
     "text": [
      "0        41\n",
      "1        41\n",
      "2        41\n",
      "3        40\n",
      "4        39\n",
      "         ..\n",
      "37917     3\n",
      "37918     3\n",
      "37919     3\n",
      "37920     3\n",
      "37921     3\n",
      "Name: tempreature, Length: 37922, dtype: int64\n"
     ]
    }
   ],
   "source": [
    "print(col_temperatura)"
   ]
  },
  {
   "cell_type": "code",
   "execution_count": 9,
   "id": "65c5668d",
   "metadata": {},
   "outputs": [],
   "source": [
    "df_one_hot_codding = pd.get_dummies(col_temperatura, dtype=np.uint8)"
   ]
  },
  {
   "cell_type": "code",
   "execution_count": 10,
   "id": "4d422892",
   "metadata": {},
   "outputs": [
    {
     "name": "stdout",
     "output_type": "stream",
     "text": [
      "       3   4   5   6   7   8   9   10  11  12  ...  32  33  34  35  36  37  \\\n",
      "0       0   0   0   0   0   0   0   0   0   0  ...   0   0   0   0   0   0   \n",
      "1       0   0   0   0   0   0   0   0   0   0  ...   0   0   0   0   0   0   \n",
      "2       0   0   0   0   0   0   0   0   0   0  ...   0   0   0   0   0   0   \n",
      "3       0   0   0   0   0   0   0   0   0   0  ...   0   0   0   0   0   0   \n",
      "4       0   0   0   0   0   0   0   0   0   0  ...   0   0   0   0   0   0   \n",
      "...    ..  ..  ..  ..  ..  ..  ..  ..  ..  ..  ...  ..  ..  ..  ..  ..  ..   \n",
      "37917   1   0   0   0   0   0   0   0   0   0  ...   0   0   0   0   0   0   \n",
      "37918   1   0   0   0   0   0   0   0   0   0  ...   0   0   0   0   0   0   \n",
      "37919   1   0   0   0   0   0   0   0   0   0  ...   0   0   0   0   0   0   \n",
      "37920   1   0   0   0   0   0   0   0   0   0  ...   0   0   0   0   0   0   \n",
      "37921   1   0   0   0   0   0   0   0   0   0  ...   0   0   0   0   0   0   \n",
      "\n",
      "       38  39  40  41  \n",
      "0       0   0   0   1  \n",
      "1       0   0   0   1  \n",
      "2       0   0   0   1  \n",
      "3       0   0   1   0  \n",
      "4       0   1   0   0  \n",
      "...    ..  ..  ..  ..  \n",
      "37917   0   0   0   0  \n",
      "37918   0   0   0   0  \n",
      "37919   0   0   0   0  \n",
      "37920   0   0   0   0  \n",
      "37921   0   0   0   0  \n",
      "\n",
      "[37922 rows x 39 columns]\n"
     ]
    }
   ],
   "source": [
    "print(df_one_hot_codding)"
   ]
  },
  {
   "cell_type": "code",
   "execution_count": null,
   "id": "78a3cec7",
   "metadata": {},
   "outputs": [],
   "source": []
  }
 ],
 "metadata": {
  "kernelspec": {
   "display_name": "Python 3 (ipykernel)",
   "language": "python",
   "name": "python3"
  },
  "language_info": {
   "codemirror_mode": {
    "name": "ipython",
    "version": 3
   },
   "file_extension": ".py",
   "mimetype": "text/x-python",
   "name": "python",
   "nbconvert_exporter": "python",
   "pygments_lexer": "ipython3",
   "version": "3.10.12"
  }
 },
 "nbformat": 4,
 "nbformat_minor": 5
}
